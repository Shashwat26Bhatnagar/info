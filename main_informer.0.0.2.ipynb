{
  "cells": [
    {
      "cell_type": "code",
      "execution_count": null,
      "metadata": {
        "id": "d0IPx0BWctLA"
      },
      "outputs": [],
      "source": [
        "#in the name of GOD#"
      ]
    },
    {
      "cell_type": "code",
      "execution_count": 3,
      "metadata": {
        "id": "FMP2ECzwgIo7"
      },
      "outputs": [],
      "source": [
        "import pandas as pd\n",
        "import torch\n",
        "from sklearn.preprocessing import MinMaxScaler"
      ]
    },
    {
      "cell_type": "code",
      "execution_count": 2,
      "metadata": {
        "colab": {
          "base_uri": "https://localhost:8080/"
        },
        "id": "bLq7ivfrcs9O",
        "outputId": "fabbdec0-b39b-489c-b8bb-42fdf0945390"
      },
      "outputs": [
        {
          "name": "stdout",
          "output_type": "stream",
          "text": [
            "Cloning into 'Informer2020'...\n",
            "remote: Enumerating objects: 637, done.\u001b[K\n",
            "remote: Counting objects: 100% (283/283), done.\u001b[K\n",
            "remote: Compressing objects: 100% (95/95), done.\u001b[K\n",
            "remote: Total 637 (delta 239), reused 188 (delta 188), pack-reused 354\u001b[K\n",
            "Receiving objects: 100% (637/637), 6.50 MiB | 6.07 MiB/s, done.\n",
            "Resolving deltas: 100% (376/376), done.\n"
          ]
        }
      ],
      "source": [
        "!git clone https://github.com/cloner174/Informer2020.git\n",
        "\n",
        "# DO NOT REMOVE THESE #\n",
        "train_size = None# DO NOT CHANGE THESE #\n",
        "test_size = None# DO NOT CHANGE THESE #\n",
        "seq_len = None# DO NOT CHANGE THESE #\n",
        "# DO NOT CHANGE THE VALUES ABOVE #"
      ]
    },
    {
      "cell_type": "code",
      "execution_count": 4,
      "metadata": {
        "id": "wsz5JXdPZ0Hm"
      },
      "outputs": [],
      "source": [
        "# Run THis for Scaling OutSide the Model #\n",
        "\n",
        "df = pd.read_csv('/content/Informer2020/input/data.csv')\n",
        "\n",
        "date_col_name = 'date'\n",
        "target_col_name = 'Close'\n",
        "features = 'MS'\n",
        "\n",
        "df_columns = list(df.columns)\n",
        "\n",
        "df_columns.remove(date_col_name)\n",
        "df_columns.remove(target_col_name)\n",
        "\n",
        "df_raw = df[[date_col_name]+df_columns+[target_col_name]]\n",
        "df_columns.insert(0, 'date')\n",
        "df_columns.append(target_col_name)\n",
        "\n",
        "df_raw = df_raw.set_axis(df_columns, axis=1)\n"
      ]
    },
    {
      "cell_type": "code",
      "execution_count": 5,
      "metadata": {
        "colab": {
          "base_uri": "https://localhost:8080/"
        },
        "id": "6pQphdCzcJkH",
        "outputId": "8281192c-0f14-4e0f-f06c-275fd771332d"
      },
      "outputs": [
        {
          "name": "stdout",
          "output_type": "stream",
          "text": [
            "Start and End Index of Train data:  0 -> 2553\n",
            "\n",
            "\n",
            "Start and End Index of Test data:  2583 -> 2953\n"
          ]
        }
      ],
      "source": [
        "test_size = 0.2\n",
        "train_size = 0.90-test_size\n",
        "seq_len = 30\n",
        "\n",
        "num_train = int(len(df_raw)*train_size)\n",
        "num_test = int(len(df_raw)*test_size)\n",
        "num_vali = len(df_raw) - num_train - num_test\n",
        "border1s = [0, num_train-seq_len, len(df_raw)-num_test-seq_len]\n",
        "border2s = [num_train, num_train+num_vali, len(df_raw)]\n",
        "\n",
        "print(\"Start and End Index of Train data: \", border1s[0], '->', border1s[1])\n",
        "print(\"\\n\")\n",
        "print(\"Start and End Index of Test data: \", border2s[0], '->', border2s[1])\n"
      ]
    },
    {
      "cell_type": "code",
      "execution_count": 6,
      "metadata": {
        "id": "dcV1JMTjdY2s"
      },
      "outputs": [],
      "source": [
        "if features=='M' or features=='MS':\n",
        "    cols_data = df_raw.columns[1:]\n",
        "    df_data = df_raw[cols_data]\n",
        "elif features=='S':\n",
        "    df_data = df_raw[[target_col_name]]"
      ]
    },
    {
      "cell_type": "code",
      "execution_count": 7,
      "metadata": {
        "colab": {
          "base_uri": "https://localhost:8080/"
        },
        "id": "4ibT8l2rdBVv",
        "outputId": "5ccd9e0c-ab67-4ca7-dc44-f763bce03d43"
      },
      "outputs": [
        {
          "name": "stdout",
          "output_type": "stream",
          "text": [
            "Before Scale : \n",
            "        Open   High    Low  Final   Volume  Close\n",
            "0     26000  26000  24885  24885     4520  24885\n",
            "1     24885  24885  24885  24885       45  24885\n",
            "2     25000  25000  25000  25000     2000  25000\n",
            "3     25003  25003  25003  25003       70  25003\n",
            "4     25010  25010  25010  25010      120  25010\n",
            "...     ...    ...    ...    ...      ...    ...\n",
            "3686  14500  15000  14320  14690  6333267  14640\n",
            "3687  14890  15000  14350  14680  2392003  14550\n",
            "3688  14220  14650  14140  14600  1470757  14210\n",
            "3689  14530  14800  14200  14580  1910602  14490\n",
            "3690  14600  14600  14230  14550   748934  14300\n",
            "\n",
            "[3691 rows x 6 columns]\n",
            "After Scale : \n",
            "           Open      High       Low     Final    Volume     Close\n",
            "0     0.541841  0.514722  0.516310  0.491133  0.000349  0.490458\n",
            "1     0.516299  0.490458  0.516310  0.491133  0.000003  0.490458\n",
            "2     0.518933  0.492960  0.518944  0.493632  0.000154  0.492960\n",
            "3     0.519002  0.493025  0.519013  0.493698  0.000005  0.493025\n",
            "4     0.519162  0.493178  0.519174  0.493850  0.000009  0.493178\n",
            "...        ...       ...       ...       ...       ...       ...\n",
            "3686  0.278400  0.275347  0.274293  0.269570  0.488644  0.267512\n",
            "3687  0.287334  0.275347  0.274981  0.269353  0.184555  0.265554\n",
            "3688  0.271986  0.267730  0.270170  0.267614  0.113476  0.258155\n",
            "3689  0.279087  0.270994  0.271544  0.267180  0.147413  0.264248\n",
            "3690  0.280691  0.266642  0.272232  0.266528  0.057784  0.260114\n",
            "\n",
            "[3691 rows x 6 columns]\n"
          ]
        }
      ],
      "source": [
        "#range of fit and transform when you do not whant to change the target :\n",
        "#     df_columns.index('date') + 1 ,  df_columns.index('Close')\n",
        "\n",
        "\n",
        "scalers_values_archive = {}\n",
        "scalers_archive = []\n",
        "data_copy = df_data.copy()\n",
        "print(\"Before Scale : \\n\", data_copy)\n",
        "\n",
        "for any_col in df_data.columns :\n",
        "\n",
        "    scaler = MinMaxScaler()\n",
        "    train_data = df_data[[any_col]][border1s[0]:border2s[0]]\n",
        "    col_data = df_data[[any_col]]\n",
        "    scaler.fit(train_data.values)\n",
        "    scalers_values_archive[any_col] = {\n",
        "        'data_min_': torch.tensor(scaler.data_min_, dtype=torch.float32),\n",
        "        'data_max_': torch.tensor(scaler.data_max_, dtype=torch.float32),\n",
        "        'scale_': torch.tensor(scaler.scale_, dtype=torch.float32),\n",
        "        'min_': torch.tensor(scaler.min_, dtype=torch.float32)\n",
        "    }\n",
        "    scalers_archive.append([any_col, scaler])\n",
        "    data_copy[any_col] = scaler.transform(col_data.values)\n",
        "\n",
        "\n",
        "print(\"After Scale : \\n\", data_copy)\n"
      ]
    },
    {
      "cell_type": "code",
      "execution_count": 8,
      "metadata": {
        "colab": {
          "base_uri": "https://localhost:8080/"
        },
        "id": "HeWCpFX8iSy8",
        "outputId": "8ee9e94b-9f6f-467e-f74b-532598e3d15d"
      },
      "outputs": [
        {
          "data": {
            "text/plain": [
              "({'data_min_': tensor([2347.]),\n",
              "  'data_max_': tensor([48300.]),\n",
              "  'scale_': tensor([2.1761e-05]),\n",
              "  'min_': tensor([-0.0511])},\n",
              " '\\n',\n",
              " ['Close', MinMaxScaler()])"
            ]
          },
          "execution_count": 8,
          "metadata": {},
          "output_type": "execute_result"
        }
      ],
      "source": [
        "scalers_values_archive['Close'], \"\\n\",scalers_archive[-1]"
      ]
    },
    {
      "cell_type": "code",
      "execution_count": 9,
      "metadata": {
        "colab": {
          "base_uri": "https://localhost:8080/",
          "height": 423
        },
        "id": "gaCLYAMJjUUc",
        "outputId": "944be1f7-31f9-46ed-fc85-178b3119f5c8"
      },
      "outputs": [
        {
          "data": {
            "application/vnd.google.colaboratory.intrinsic+json": {
              "summary": "{\n  \"name\": \"data_copy\",\n  \"rows\": 3691,\n  \"fields\": [\n    {\n      \"column\": \"date\",\n      \"properties\": {\n        \"dtype\": \"object\",\n        \"num_unique_values\": 3690,\n        \"samples\": [\n          \"2023-04-03\",\n          \"2023-06-18\",\n          \"2005-05-28\"\n        ],\n        \"semantic_type\": \"\",\n        \"description\": \"\"\n      }\n    },\n    {\n      \"column\": \"Open\",\n      \"properties\": {\n        \"dtype\": \"number\",\n        \"std\": 0.279441109714456,\n        \"min\": 0.0,\n        \"max\": 1.531738941195336,\n        \"num_unique_values\": 2764,\n        \"samples\": [\n          0.7711726570911507,\n          0.0903259798868348,\n          0.12031246420635466\n        ],\n        \"semantic_type\": \"\",\n        \"description\": \"\"\n      }\n    },\n    {\n      \"column\": \"High\",\n      \"properties\": {\n        \"dtype\": \"number\",\n        \"std\": 0.26967861927872644,\n        \"min\": 0.0,\n        \"max\": 1.5268426435706046,\n        \"num_unique_values\": 2744,\n        \"samples\": [\n          0.12447500707244358,\n          0.15017517898722607,\n          0.08859051639718843\n        ],\n        \"semantic_type\": \"\",\n        \"description\": \"\"\n      }\n    },\n    {\n      \"column\": \"Low\",\n      \"properties\": {\n        \"dtype\": \"number\",\n        \"std\": 0.27283389421691157,\n        \"min\": 0.0,\n        \"max\": 1.5291611307096715,\n        \"num_unique_values\": 2763,\n        \"samples\": [\n          0.18777202547303798,\n          0.04819718697026618,\n          0.8098685114766115\n        ],\n        \"semantic_type\": \"\",\n        \"description\": \"\"\n      }\n    },\n    {\n      \"column\": \"Final\",\n      \"properties\": {\n        \"dtype\": \"number\",\n        \"std\": 0.26474916883173494,\n        \"min\": 0.0,\n        \"max\": 1.4985439214152214,\n        \"num_unique_values\": 3004,\n        \"samples\": [\n          0.10564176120311208,\n          0.7751771200069544,\n          0.6068153170774113\n        ],\n        \"semantic_type\": \"\",\n        \"description\": \"\"\n      }\n    },\n    {\n      \"column\": \"Volume\",\n      \"properties\": {\n        \"dtype\": \"number\",\n        \"std\": 0.09137626975272103,\n        \"min\": 0.0,\n        \"max\": 1.4399643758977008,\n        \"num_unique_values\": 3232,\n        \"samples\": [\n          0.03170538932208966,\n          0.12933627695880096,\n          0.0687213715603437\n        ],\n        \"semantic_type\": \"\",\n        \"description\": \"\"\n      }\n    },\n    {\n      \"column\": \"Close\",\n      \"properties\": {\n        \"dtype\": \"number\",\n        \"std\": 0.2644119246980527,\n        \"min\": 0.0,\n        \"max\": 1.5268426435706046,\n        \"num_unique_values\": 2838,\n        \"samples\": [\n          0.01797488738493678,\n          0.2007050682218789,\n          0.08410767523339063\n        ],\n        \"semantic_type\": \"\",\n        \"description\": \"\"\n      }\n    }\n  ]\n}",
              "type": "dataframe",
              "variable_name": "data_copy"
            },
            "text/html": [
              "\n",
              "  <div id=\"df-aa34811f-5e99-430c-b98c-cbc7ae9d3058\" class=\"colab-df-container\">\n",
              "    <div>\n",
              "<style scoped>\n",
              "    .dataframe tbody tr th:only-of-type {\n",
              "        vertical-align: middle;\n",
              "    }\n",
              "\n",
              "    .dataframe tbody tr th {\n",
              "        vertical-align: top;\n",
              "    }\n",
              "\n",
              "    .dataframe thead th {\n",
              "        text-align: right;\n",
              "    }\n",
              "</style>\n",
              "<table border=\"1\" class=\"dataframe\">\n",
              "  <thead>\n",
              "    <tr style=\"text-align: right;\">\n",
              "      <th></th>\n",
              "      <th>date</th>\n",
              "      <th>Open</th>\n",
              "      <th>High</th>\n",
              "      <th>Low</th>\n",
              "      <th>Final</th>\n",
              "      <th>Volume</th>\n",
              "      <th>Close</th>\n",
              "    </tr>\n",
              "  </thead>\n",
              "  <tbody>\n",
              "    <tr>\n",
              "      <th>0</th>\n",
              "      <td>2001-03-25</td>\n",
              "      <td>0.541841</td>\n",
              "      <td>0.514722</td>\n",
              "      <td>0.516310</td>\n",
              "      <td>0.491133</td>\n",
              "      <td>0.000349</td>\n",
              "      <td>0.490458</td>\n",
              "    </tr>\n",
              "    <tr>\n",
              "      <th>1</th>\n",
              "      <td>2001-03-26</td>\n",
              "      <td>0.516299</td>\n",
              "      <td>0.490458</td>\n",
              "      <td>0.516310</td>\n",
              "      <td>0.491133</td>\n",
              "      <td>0.000003</td>\n",
              "      <td>0.490458</td>\n",
              "    </tr>\n",
              "    <tr>\n",
              "      <th>2</th>\n",
              "      <td>2001-04-08</td>\n",
              "      <td>0.518933</td>\n",
              "      <td>0.492960</td>\n",
              "      <td>0.518944</td>\n",
              "      <td>0.493632</td>\n",
              "      <td>0.000154</td>\n",
              "      <td>0.492960</td>\n",
              "    </tr>\n",
              "    <tr>\n",
              "      <th>3</th>\n",
              "      <td>2001-04-10</td>\n",
              "      <td>0.519002</td>\n",
              "      <td>0.493025</td>\n",
              "      <td>0.519013</td>\n",
              "      <td>0.493698</td>\n",
              "      <td>0.000005</td>\n",
              "      <td>0.493025</td>\n",
              "    </tr>\n",
              "    <tr>\n",
              "      <th>4</th>\n",
              "      <td>2001-04-15</td>\n",
              "      <td>0.519162</td>\n",
              "      <td>0.493178</td>\n",
              "      <td>0.519174</td>\n",
              "      <td>0.493850</td>\n",
              "      <td>0.000009</td>\n",
              "      <td>0.493178</td>\n",
              "    </tr>\n",
              "    <tr>\n",
              "      <th>...</th>\n",
              "      <td>...</td>\n",
              "      <td>...</td>\n",
              "      <td>...</td>\n",
              "      <td>...</td>\n",
              "      <td>...</td>\n",
              "      <td>...</td>\n",
              "      <td>...</td>\n",
              "    </tr>\n",
              "    <tr>\n",
              "      <th>3686</th>\n",
              "      <td>2023-11-04</td>\n",
              "      <td>0.278400</td>\n",
              "      <td>0.275347</td>\n",
              "      <td>0.274293</td>\n",
              "      <td>0.269570</td>\n",
              "      <td>0.488644</td>\n",
              "      <td>0.267512</td>\n",
              "    </tr>\n",
              "    <tr>\n",
              "      <th>3687</th>\n",
              "      <td>2023-11-05</td>\n",
              "      <td>0.287334</td>\n",
              "      <td>0.275347</td>\n",
              "      <td>0.274981</td>\n",
              "      <td>0.269353</td>\n",
              "      <td>0.184555</td>\n",
              "      <td>0.265554</td>\n",
              "    </tr>\n",
              "    <tr>\n",
              "      <th>3688</th>\n",
              "      <td>2023-11-06</td>\n",
              "      <td>0.271986</td>\n",
              "      <td>0.267730</td>\n",
              "      <td>0.270170</td>\n",
              "      <td>0.267614</td>\n",
              "      <td>0.113476</td>\n",
              "      <td>0.258155</td>\n",
              "    </tr>\n",
              "    <tr>\n",
              "      <th>3689</th>\n",
              "      <td>2023-11-07</td>\n",
              "      <td>0.279087</td>\n",
              "      <td>0.270994</td>\n",
              "      <td>0.271544</td>\n",
              "      <td>0.267180</td>\n",
              "      <td>0.147413</td>\n",
              "      <td>0.264248</td>\n",
              "    </tr>\n",
              "    <tr>\n",
              "      <th>3690</th>\n",
              "      <td>2023-11-08</td>\n",
              "      <td>0.280691</td>\n",
              "      <td>0.266642</td>\n",
              "      <td>0.272232</td>\n",
              "      <td>0.266528</td>\n",
              "      <td>0.057784</td>\n",
              "      <td>0.260114</td>\n",
              "    </tr>\n",
              "  </tbody>\n",
              "</table>\n",
              "<p>3691 rows × 7 columns</p>\n",
              "</div>\n",
              "    <div class=\"colab-df-buttons\">\n",
              "\n",
              "  <div class=\"colab-df-container\">\n",
              "    <button class=\"colab-df-convert\" onclick=\"convertToInteractive('df-aa34811f-5e99-430c-b98c-cbc7ae9d3058')\"\n",
              "            title=\"Convert this dataframe to an interactive table.\"\n",
              "            style=\"display:none;\">\n",
              "\n",
              "  <svg xmlns=\"http://www.w3.org/2000/svg\" height=\"24px\" viewBox=\"0 -960 960 960\">\n",
              "    <path d=\"M120-120v-720h720v720H120Zm60-500h600v-160H180v160Zm220 220h160v-160H400v160Zm0 220h160v-160H400v160ZM180-400h160v-160H180v160Zm440 0h160v-160H620v160ZM180-180h160v-160H180v160Zm440 0h160v-160H620v160Z\"/>\n",
              "  </svg>\n",
              "    </button>\n",
              "\n",
              "  <style>\n",
              "    .colab-df-container {\n",
              "      display:flex;\n",
              "      gap: 12px;\n",
              "    }\n",
              "\n",
              "    .colab-df-convert {\n",
              "      background-color: #E8F0FE;\n",
              "      border: none;\n",
              "      border-radius: 50%;\n",
              "      cursor: pointer;\n",
              "      display: none;\n",
              "      fill: #1967D2;\n",
              "      height: 32px;\n",
              "      padding: 0 0 0 0;\n",
              "      width: 32px;\n",
              "    }\n",
              "\n",
              "    .colab-df-convert:hover {\n",
              "      background-color: #E2EBFA;\n",
              "      box-shadow: 0px 1px 2px rgba(60, 64, 67, 0.3), 0px 1px 3px 1px rgba(60, 64, 67, 0.15);\n",
              "      fill: #174EA6;\n",
              "    }\n",
              "\n",
              "    .colab-df-buttons div {\n",
              "      margin-bottom: 4px;\n",
              "    }\n",
              "\n",
              "    [theme=dark] .colab-df-convert {\n",
              "      background-color: #3B4455;\n",
              "      fill: #D2E3FC;\n",
              "    }\n",
              "\n",
              "    [theme=dark] .colab-df-convert:hover {\n",
              "      background-color: #434B5C;\n",
              "      box-shadow: 0px 1px 3px 1px rgba(0, 0, 0, 0.15);\n",
              "      filter: drop-shadow(0px 1px 2px rgba(0, 0, 0, 0.3));\n",
              "      fill: #FFFFFF;\n",
              "    }\n",
              "  </style>\n",
              "\n",
              "    <script>\n",
              "      const buttonEl =\n",
              "        document.querySelector('#df-aa34811f-5e99-430c-b98c-cbc7ae9d3058 button.colab-df-convert');\n",
              "      buttonEl.style.display =\n",
              "        google.colab.kernel.accessAllowed ? 'block' : 'none';\n",
              "\n",
              "      async function convertToInteractive(key) {\n",
              "        const element = document.querySelector('#df-aa34811f-5e99-430c-b98c-cbc7ae9d3058');\n",
              "        const dataTable =\n",
              "          await google.colab.kernel.invokeFunction('convertToInteractive',\n",
              "                                                    [key], {});\n",
              "        if (!dataTable) return;\n",
              "\n",
              "        const docLinkHtml = 'Like what you see? Visit the ' +\n",
              "          '<a target=\"_blank\" href=https://colab.research.google.com/notebooks/data_table.ipynb>data table notebook</a>'\n",
              "          + ' to learn more about interactive tables.';\n",
              "        element.innerHTML = '';\n",
              "        dataTable['output_type'] = 'display_data';\n",
              "        await google.colab.output.renderOutput(dataTable, element);\n",
              "        const docLink = document.createElement('div');\n",
              "        docLink.innerHTML = docLinkHtml;\n",
              "        element.appendChild(docLink);\n",
              "      }\n",
              "    </script>\n",
              "  </div>\n",
              "\n",
              "\n",
              "<div id=\"df-19f37478-5890-4650-89aa-df954677ceff\">\n",
              "  <button class=\"colab-df-quickchart\" onclick=\"quickchart('df-19f37478-5890-4650-89aa-df954677ceff')\"\n",
              "            title=\"Suggest charts\"\n",
              "            style=\"display:none;\">\n",
              "\n",
              "<svg xmlns=\"http://www.w3.org/2000/svg\" height=\"24px\"viewBox=\"0 0 24 24\"\n",
              "     width=\"24px\">\n",
              "    <g>\n",
              "        <path d=\"M19 3H5c-1.1 0-2 .9-2 2v14c0 1.1.9 2 2 2h14c1.1 0 2-.9 2-2V5c0-1.1-.9-2-2-2zM9 17H7v-7h2v7zm4 0h-2V7h2v10zm4 0h-2v-4h2v4z\"/>\n",
              "    </g>\n",
              "</svg>\n",
              "  </button>\n",
              "\n",
              "<style>\n",
              "  .colab-df-quickchart {\n",
              "      --bg-color: #E8F0FE;\n",
              "      --fill-color: #1967D2;\n",
              "      --hover-bg-color: #E2EBFA;\n",
              "      --hover-fill-color: #174EA6;\n",
              "      --disabled-fill-color: #AAA;\n",
              "      --disabled-bg-color: #DDD;\n",
              "  }\n",
              "\n",
              "  [theme=dark] .colab-df-quickchart {\n",
              "      --bg-color: #3B4455;\n",
              "      --fill-color: #D2E3FC;\n",
              "      --hover-bg-color: #434B5C;\n",
              "      --hover-fill-color: #FFFFFF;\n",
              "      --disabled-bg-color: #3B4455;\n",
              "      --disabled-fill-color: #666;\n",
              "  }\n",
              "\n",
              "  .colab-df-quickchart {\n",
              "    background-color: var(--bg-color);\n",
              "    border: none;\n",
              "    border-radius: 50%;\n",
              "    cursor: pointer;\n",
              "    display: none;\n",
              "    fill: var(--fill-color);\n",
              "    height: 32px;\n",
              "    padding: 0;\n",
              "    width: 32px;\n",
              "  }\n",
              "\n",
              "  .colab-df-quickchart:hover {\n",
              "    background-color: var(--hover-bg-color);\n",
              "    box-shadow: 0 1px 2px rgba(60, 64, 67, 0.3), 0 1px 3px 1px rgba(60, 64, 67, 0.15);\n",
              "    fill: var(--button-hover-fill-color);\n",
              "  }\n",
              "\n",
              "  .colab-df-quickchart-complete:disabled,\n",
              "  .colab-df-quickchart-complete:disabled:hover {\n",
              "    background-color: var(--disabled-bg-color);\n",
              "    fill: var(--disabled-fill-color);\n",
              "    box-shadow: none;\n",
              "  }\n",
              "\n",
              "  .colab-df-spinner {\n",
              "    border: 2px solid var(--fill-color);\n",
              "    border-color: transparent;\n",
              "    border-bottom-color: var(--fill-color);\n",
              "    animation:\n",
              "      spin 1s steps(1) infinite;\n",
              "  }\n",
              "\n",
              "  @keyframes spin {\n",
              "    0% {\n",
              "      border-color: transparent;\n",
              "      border-bottom-color: var(--fill-color);\n",
              "      border-left-color: var(--fill-color);\n",
              "    }\n",
              "    20% {\n",
              "      border-color: transparent;\n",
              "      border-left-color: var(--fill-color);\n",
              "      border-top-color: var(--fill-color);\n",
              "    }\n",
              "    30% {\n",
              "      border-color: transparent;\n",
              "      border-left-color: var(--fill-color);\n",
              "      border-top-color: var(--fill-color);\n",
              "      border-right-color: var(--fill-color);\n",
              "    }\n",
              "    40% {\n",
              "      border-color: transparent;\n",
              "      border-right-color: var(--fill-color);\n",
              "      border-top-color: var(--fill-color);\n",
              "    }\n",
              "    60% {\n",
              "      border-color: transparent;\n",
              "      border-right-color: var(--fill-color);\n",
              "    }\n",
              "    80% {\n",
              "      border-color: transparent;\n",
              "      border-right-color: var(--fill-color);\n",
              "      border-bottom-color: var(--fill-color);\n",
              "    }\n",
              "    90% {\n",
              "      border-color: transparent;\n",
              "      border-bottom-color: var(--fill-color);\n",
              "    }\n",
              "  }\n",
              "</style>\n",
              "\n",
              "  <script>\n",
              "    async function quickchart(key) {\n",
              "      const quickchartButtonEl =\n",
              "        document.querySelector('#' + key + ' button');\n",
              "      quickchartButtonEl.disabled = true;  // To prevent multiple clicks.\n",
              "      quickchartButtonEl.classList.add('colab-df-spinner');\n",
              "      try {\n",
              "        const charts = await google.colab.kernel.invokeFunction(\n",
              "            'suggestCharts', [key], {});\n",
              "      } catch (error) {\n",
              "        console.error('Error during call to suggestCharts:', error);\n",
              "      }\n",
              "      quickchartButtonEl.classList.remove('colab-df-spinner');\n",
              "      quickchartButtonEl.classList.add('colab-df-quickchart-complete');\n",
              "    }\n",
              "    (() => {\n",
              "      let quickchartButtonEl =\n",
              "        document.querySelector('#df-19f37478-5890-4650-89aa-df954677ceff button');\n",
              "      quickchartButtonEl.style.display =\n",
              "        google.colab.kernel.accessAllowed ? 'block' : 'none';\n",
              "    })();\n",
              "  </script>\n",
              "</div>\n",
              "    </div>\n",
              "  </div>\n"
            ],
            "text/plain": [
              "            date      Open      High       Low     Final    Volume     Close\n",
              "0     2001-03-25  0.541841  0.514722  0.516310  0.491133  0.000349  0.490458\n",
              "1     2001-03-26  0.516299  0.490458  0.516310  0.491133  0.000003  0.490458\n",
              "2     2001-04-08  0.518933  0.492960  0.518944  0.493632  0.000154  0.492960\n",
              "3     2001-04-10  0.519002  0.493025  0.519013  0.493698  0.000005  0.493025\n",
              "4     2001-04-15  0.519162  0.493178  0.519174  0.493850  0.000009  0.493178\n",
              "...          ...       ...       ...       ...       ...       ...       ...\n",
              "3686  2023-11-04  0.278400  0.275347  0.274293  0.269570  0.488644  0.267512\n",
              "3687  2023-11-05  0.287334  0.275347  0.274981  0.269353  0.184555  0.265554\n",
              "3688  2023-11-06  0.271986  0.267730  0.270170  0.267614  0.113476  0.258155\n",
              "3689  2023-11-07  0.279087  0.270994  0.271544  0.267180  0.147413  0.264248\n",
              "3690  2023-11-08  0.280691  0.266642  0.272232  0.266528  0.057784  0.260114\n",
              "\n",
              "[3691 rows x 7 columns]"
            ]
          },
          "execution_count": 9,
          "metadata": {},
          "output_type": "execute_result"
        }
      ],
      "source": [
        "data_copy.insert(0, 'date', df_raw[['date']])\n",
        "data_copy\n",
        "#data_copy.to_csv('/content/Informer2020/input/data.csv', index=False)"
      ]
    },
    {
      "cell_type": "code",
      "execution_count": null,
      "metadata": {
        "id": "2pIf7yqnjH3c"
      },
      "outputs": [],
      "source": [
        "# End Of scaling Process #"
      ]
    },
    {
      "cell_type": "code",
      "execution_count": 10,
      "metadata": {
        "colab": {
          "base_uri": "https://localhost:8080/"
        },
        "id": "gDS2-pFMFZCk",
        "outputId": "09daf37e-6db0-45d1-9cc4-41779920a8ac"
      },
      "outputs": [
        {
          "name": "stdout",
          "output_type": "stream",
          "text": [
            "/content/Informer2020\n"
          ]
        }
      ],
      "source": [
        "%cd 'Informer2020'"
      ]
    },
    {
      "cell_type": "code",
      "execution_count": 11,
      "metadata": {
        "colab": {
          "base_uri": "https://localhost:8080/"
        },
        "id": "YnrQ1p799eBy",
        "outputId": "b3d1e7b1-bfcc-4b68-ecae-6b9ecb6fe513"
      },
      "outputs": [
        {
          "name": "stdout",
          "output_type": "stream",
          "text": [
            "This is The Enhanced Version of Orginal code , Written in 2024 \n",
            "Args in experiment:\n",
            "{'root_path': '/content/Informer2020/input/', 'data_path': 'data.csv', 'model': 'informer', 'data': 'custom', 'features': 'MS', 'target': 'Close', 'freq': 'b', 'checkpoints': './informer_checkpint', 'seq_len': 30, 'label_len': 1, 'pred_len': 1, 'enc_in': 6, 'dec_in': 6, 'c_out': 1, 'factor': 1, 'd_model': 512, 'n_heads': 16, 'e_layers': 8, 'd_layers': 8, 'd_ff': 2048, 's_layers': [3, 2, 1], 'dropout': 0.01, 'attn': 'full', 'embed': 'learned', 'activation': 'ReLU6', 'distil': True, 'output_attention': False, 'mix': True, 'padding': 0, 'batch_size': 16, 'learning_rate': 5e-05, 'loss': 'mse', 'lradj': 'type1', 'use_amp': False, 'num_workers': 2, 'itr': 1, 'train_epochs': 10, 'patience': 5, 'des': 'exp', 'use_gpu': False, 'gpu': 0, 'use_multi_gpu': False, 'devices': '0,1,2,3', 'do_predict': None, 'test_size': 0.2, 'kind_of_optim': 'Adam', 'inverse': False, 'scale': False, 'kind_of_scaler': 'MinMax', 'take_data_instead_of_reading': True, 'shuffle_for_test': False, 'shuffle_for_pred': False, 'shuffle_for_train': True, 'criter': 'MAE', 'detail_freq': 'b'}\n"
          ]
        }
      ],
      "source": [
        "import os\n",
        "import sys\n",
        "import torch\n",
        "import numpy as np\n",
        "from utils.tools import dotdict\n",
        "\n",
        "from exp.exp_informer import Exp_Informer\n",
        "\n",
        "args = dotdict()\n",
        "\n",
        "\n",
        "\n",
        "args.root_path = '/content/Informer2020/input/'\n",
        "\n",
        "args.data_path = 'data.csv'\n",
        "\n",
        "args.model = 'informer'                      #  options: [ informer, informerstack-NOTSUREYET!-, informerlight(TBD)-NOTSUREYET!-]\n",
        "\n",
        "args.data = 'custom'\n",
        "\n",
        "args.features = 'MS'\n",
        "\n",
        "args.target = 'Close'\n",
        "\n",
        "args.freq = 'b'\n",
        "\n",
        "args.checkpoints = './informer_checkpint' # location of model checkpoints\n",
        "\n",
        "args.seq_len = seq_len if seq_len is not None else 1*5*6\n",
        "\n",
        "args.label_len = 1*1\n",
        "args.pred_len = 1*1\n",
        "\n",
        "args.enc_in  =  6         \t\t   # Encoder input size\n",
        "args.dec_in  =  6          \t\t  # Decoder input size\n",
        "args.c_out   =  1            \t\t # Output size\n",
        "\n",
        "args.factor  =  1            \t\t  # Probsparse attn factor\n",
        "\n",
        "args.d_model = 512            \t\t # Dimension of model\n",
        "args.n_heads = 16            \t\t   # 16خوب\n",
        "args.e_layers = 8          \t\t # num of encoder layers\n",
        "args.d_layers = 8           \t\t# num of decoder layers\n",
        "args.d_ff    =  2048         \t\t# dimension of fcn in model\n",
        "args.s_layers = '3,2,1'\t\t\t#help='num of stack encoder layers'\n",
        "\n",
        "args.dropout  =  0.01         # dropout\n",
        "\n",
        "args.attn = 'full'                  # attention used in encoder, options:[prob, full]\n",
        "args.embed = 'learned'              # time features encoding, options:[timeF, fixed, learned]\n",
        "args.activation = 'ReLU6'            # activation\n",
        "\n",
        "args.distil = True                      # whether to use distilling in encoder\n",
        "args.output_attention = False           # whether to output attention in ecoder\n",
        "args.mix = True\n",
        "\n",
        "args.padding = 0\n",
        "\n",
        "args.batch_size = 16\n",
        "args.learning_rate = 0.00005\n",
        "\n",
        "args.loss = 'mse'\n",
        "args.lradj = 'type1'\n",
        "\n",
        "args.use_amp = False                    # whether to use automatic mixed precision training\n",
        "\n",
        "args.num_workers = 2\n",
        "\n",
        "args.itr = 1\n",
        "\n",
        "args.train_epochs = 10\n",
        "\n",
        "args.patience = 5\n",
        "\n",
        "args.des = 'exp'\t\t\t#default='test',help='exp description'\n",
        "\n",
        "args.use_gpu = True if torch.cuda.is_available() else False\n",
        "\n",
        "args.gpu = 0\n",
        "args.use_multi_gpu = False\n",
        "args.devices = '0,1,2,3'\n",
        "\n",
        "args.do_predict = None\t\t\t# help='whether to predict unseen future dat\n",
        "\n",
        "\n",
        "\n",
        "#    #    #    new#    #\n",
        "\n",
        "args.test_size = test_size if test_size is not None else 0.2\n",
        "\n",
        "args.kind_of_optim = 'Adam'               # optimizer to use,options:AdamW|SparseAdam|RMSprop|AdagradRAdam|NAdam|LBFGS|AdamaxAdadelta|Adam |SGD | ASGD\n",
        "\n",
        "args.inverse=False\n",
        "\n",
        "args.scale=False\n",
        "\n",
        "args.kind_of_scaler = 'MinMax'                       #   Standard   or   MinMax\n",
        "\n",
        "args.take_data_instead_of_reading = True            # Defualt to False.. if it is True, you should provide direct_data!\n",
        "\n",
        "args.shuffle_for_test  =  False\n",
        "args.shuffle_for_pred  =  False\n",
        "args.shuffle_for_train  =  True\n",
        "\n",
        "args.criter =  'MAE'       # lose function options: WMAPE|SMAPE|MAE|RMSE|QuantileLoss|HuberLoss|PinballLoss\n",
        "\n",
        "#    #    #    new#    #\n",
        "\n",
        "\n",
        "\n",
        "args.use_gpu = True if torch.cuda.is_available() and args.use_gpu else False\n",
        "\n",
        "args.s_layers = [int(s_l) for s_l in args.s_layers.replace(' ','').split(',')]\n",
        "args.detail_freq = args.freq\n",
        "args.freq = args.freq[-1:]\n",
        "\n",
        "#if args.use_gpu and args.use_multi_gpu:\n",
        "#    args.devices = args.devices.replace(' ','')\n",
        "#    device_ids = args.devices.split(',')\n",
        "#    args.device_ids = [int(id_) for id_ in device_ids]\n",
        "#    args.gpu = args.device_ids[0]\n",
        "\n",
        "\n",
        "print('Args in experiment:')\n",
        "print(args)\n",
        "\n",
        "Exp = Exp_Informer\n"
      ]
    },
    {
      "cell_type": "code",
      "execution_count": null,
      "metadata": {
        "colab": {
          "base_uri": "https://localhost:8080/"
        },
        "id": "NJwLy0T5Fs9W",
        "outputId": "c3bfc4b5-cbc9-4460-f44b-24aa6ad551e8"
      },
      "outputs": [
        {
          "name": "stdout",
          "output_type": "stream",
          "text": [
            "Use CPU\n",
            ">>>>>>>start training : informer_custom_ftMS_sl30_ll1_pl1_dm512_nh16_el8_dl8_df2048_atfull_fc1_eblearned_dtTrue_mxTrue_exp_0>>>>>>>>>>>>>>>>>>>>>>>>>>\n",
            "train 2553\n",
            "val 370\n",
            "test 738\n"
          ]
        }
      ],
      "source": [
        "\n",
        "for ii in range(args.itr):\n",
        "    # setting record of experiments\n",
        "    setting = '{}_{}_ft{}_sl{}_ll{}_pl{}_dm{}_nh{}_el{}_dl{}_df{}_at{}_fc{}_eb{}_dt{}_mx{}_{}_{}'.format(args.model, args.data, args.features,\n",
        "                args.seq_len, args.label_len, args.pred_len,\n",
        "                args.d_model, args.n_heads, args.e_layers, args.d_layers, args.d_ff, args.attn, args.factor,\n",
        "                args.embed, args.distil, args.mix, args.des, ii)\n",
        "\n",
        "    exp = Exp(args, data_copy) # set experiments\n",
        "    print('>>>>>>>start training : {}>>>>>>>>>>>>>>>>>>>>>>>>>>'.format(setting))\n",
        "    exp.train(setting)\n",
        "\n",
        "    print('>>>>>>>testing : {}<<<<<<<<<<<<<<<<<<<<<<<<<<<<<<<<<'.format(setting))\n",
        "    exp.test(setting)\n",
        "\n",
        "    if args.do_predict:\n",
        "        print('>>>>>>>predicting : {}<<<<<<<<<<<<<<<<<<<<<<<<<<<<<<<<<'.format(setting))\n",
        "        exp.predict(setting, True)\n",
        "\n",
        "    torch.cuda.empty_cache()"
      ]
    },
    {
      "cell_type": "code",
      "execution_count": null,
      "metadata": {
        "id": "yCIEcMCpZC58"
      },
      "outputs": [],
      "source": [
        "#exp.train_losses\n",
        "#exp.test_losses"
      ]
    },
    {
      "cell_type": "code",
      "execution_count": 159,
      "metadata": {
        "id": "oTAKN3idKOCY"
      },
      "outputs": [],
      "source": [
        "trues = np.load('/content/Informer2020/results/informer_custom_ftMS_sl10_ll1_pl1_dm512_nh16_el8_dl8_df2048_atfull_fc1_eblearned_dtTrue_mxTrue_exp_0/true.npy')\n",
        "preds = np.load('/content/Informer2020/results/informer_custom_ftMS_sl10_ll1_pl1_dm512_nh16_el8_dl8_df2048_atfull_fc1_eblearned_dtTrue_mxTrue_exp_0/pred.npy')"
      ]
    },
    {
      "cell_type": "code",
      "execution_count": 160,
      "metadata": {
        "colab": {
          "base_uri": "https://localhost:8080/"
        },
        "id": "vIW1cXUbqfvQ",
        "outputId": "a21bc725-58c7-47fa-d135-cd3f728dd03d"
      },
      "outputs": [
        {
          "name": "stdout",
          "output_type": "stream",
          "text": [
            "['Close', MinMaxScaler()]\n"
          ]
        }
      ],
      "source": [
        "print(scalers_archive[-1])\n",
        "scaler = scalers_archive[-1][1]"
      ]
    },
    {
      "cell_type": "code",
      "execution_count": 161,
      "metadata": {
        "colab": {
          "base_uri": "https://localhost:8080/"
        },
        "id": "dkO1scRTqJn5",
        "outputId": "7bc67d5c-02a7-4f41-cac7-58fd7983b12a"
      },
      "outputs": [
        {
          "name": "stdout",
          "output_type": "stream",
          "text": [
            "      True  Predict\n",
            "0    65510    40612\n",
            "1    68001    39504\n",
            "2    72510    40443\n",
            "3    33620    36996\n",
            "4    35300    37003\n",
            "..     ...      ...\n",
            "731  13710    22766\n",
            "732  14300    22139\n",
            "733  14640    20051\n",
            "734  14550    19842\n",
            "735  14210    21293\n",
            "\n",
            "[736 rows x 2 columns]\n"
          ]
        }
      ],
      "source": [
        "tt = []\n",
        "pp = []\n",
        "\n",
        "for any_ in scaler.inverse_transform(trues.reshape(-1,1)).reshape(-1):\n",
        "  tt.append(round(any_))\n",
        "\n",
        "for any_ in scaler.inverse_transform(preds.reshape(-1,1)).reshape(-1):\n",
        "  pp.append(round(any_))\n",
        "\n",
        "t = pd.Series(tt)\n",
        "p = pd.Series(pp)\n",
        "\n",
        "result = pd.concat([t,p], axis=1)\n",
        "result = result.set_axis(['True', 'Predict'], axis=1)\n",
        "print(result)"
      ]
    },
    {
      "cell_type": "code",
      "execution_count": null,
      "metadata": {
        "id": "NlN1dsOkqJiK"
      },
      "outputs": [],
      "source": [
        "#done"
      ]
    },
    {
      "cell_type": "code",
      "execution_count": 108,
      "metadata": {
        "colab": {
          "base_uri": "https://localhost:8080/"
        },
        "id": "W6KUJindLj2N",
        "outputId": "ec89a8d6-222b-40a4-d0eb-f6b5b1948e76"
      },
      "outputs": [
        {
          "data": {
            "text/plain": [
              "array([0.98960656, 0.83518106, 0.9768787 , 0.87988937, 0.83912545,\n",
              "       0.76452976, 0.86802346, 0.7796083 , 0.7027675 , 0.85203534,\n",
              "       0.77093005, 0.8145493 , 0.8430747 , 0.7506754 , 0.8032037 ,\n",
              "       0.66221505, 0.87651265, 0.632769  , 0.72353023, 0.6644593 ,\n",
              "       0.7103992 , 0.8070298 , 0.7336649 , 0.65453744, 0.8173029 ,\n",
              "       0.6567246 , 0.7111692 , 0.70654744, 0.7357852 , 0.5764162 ,\n",
              "       0.6217591 , 0.64224666, 0.64289564, 0.57475656, 0.66826415,\n",
              "       0.7096961 , 0.6165802 , 0.5982239 , 0.6449774 , 0.6558666 ,\n",
              "       0.6689005 , 0.6850541 , 0.7874504 , 0.6216084 , 0.6962758 ,\n",
              "       0.7006822 , 0.75089395, 0.78326863, 0.7268329 , 0.76165956],\n",
              "      dtype=float32)"
            ]
          },
          "execution_count": 108,
          "metadata": {},
          "output_type": "execute_result"
        }
      ],
      "source": [
        "preds.reshape(-1)[:50]"
      ]
    },
    {
      "cell_type": "code",
      "execution_count": 109,
      "metadata": {
        "colab": {
          "base_uri": "https://localhost:8080/"
        },
        "id": "Wd4ggiE4L3p_",
        "outputId": "f45a16d4-f04a-49cc-d404-83762749018e"
      },
      "outputs": [
        {
          "data": {
            "text/plain": [
              "array([1.374513  , 1.4287206 , 1.5268426 , 0.6805432 , 0.7171022 ,\n",
              "       0.75540227, 0.7956608 , 0.8378778 , 0.882271  , 0.92884034,\n",
              "       0.9762801 , 1.0276369 , 1.0800818 , 1.1066307 , 1.162775  ,\n",
              "       1.1022785 , 1.0485278 , 1.0300307 , 1.0169739 , 1.0987966 ,\n",
              "       1.0413465 , 1.0324244 , 1.0047874 , 0.9882489 , 0.95343065,\n",
              "       0.94167954, 0.90990794, 0.87813634, 0.92775226, 0.9717102 ,\n",
              "       0.99347156, 0.93036366, 0.8998977 , 0.8594216 , 0.8215568 ,\n",
              "       0.7863034 , 0.793267  , 0.75627273, 0.734729  , 0.72232497,\n",
              "       0.7203665 , 0.7062216 , 0.690771  , 0.6831545 , 0.67249143,\n",
              "       0.73603463, 0.75279087, 0.71514374, 0.69882274, 0.6936    ],\n",
              "      dtype=float32)"
            ]
          },
          "execution_count": 109,
          "metadata": {},
          "output_type": "execute_result"
        }
      ],
      "source": [
        "trues.reshape(-1)[:50]"
      ]
    },
    {
      "cell_type": "code",
      "execution_count": 10,
      "metadata": {
        "id": "6GxU_JvjWvVe"
      },
      "outputs": [],
      "source": [
        "def inverser_from_numpy(data, scaler):\n",
        "  return scaler.inverse_transform(data)"
      ]
    },
    {
      "cell_type": "code",
      "execution_count": null,
      "metadata": {
        "id": "9te-EDyLm3i5"
      },
      "outputs": [],
      "source": [
        "def inverser_from_torch(data,min_,scale_, data_min_,data_max_):\n",
        "  min_ = min_.to(data.device)\n",
        "  scale_ = scale_.to(data.device)\n",
        "  data_min_ = data_min_.to(data.device)\n",
        "  data_max_ = data_max_.to(data.device)\n",
        "  inversed_data = (data - min_) / scale_ * (data_max_ - data_min_) + data_min_"
      ]
    }
  ],
  "metadata": {
    "colab": {
      "provenance": []
    },
    "kernelspec": {
      "display_name": "Python 3",
      "name": "python3"
    },
    "language_info": {
      "name": "python"
    }
  },
  "nbformat": 4,
  "nbformat_minor": 0
}
